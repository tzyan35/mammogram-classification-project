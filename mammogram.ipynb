import pandas as pd

masses_data = pd.read_csv('mammographic_masses.data.txt')
masses_data.head()
